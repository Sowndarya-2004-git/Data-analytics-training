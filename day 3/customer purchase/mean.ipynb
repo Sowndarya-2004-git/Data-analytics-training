{
  "nbformat": 4,
  "nbformat_minor": 0,
  "metadata": {
    "colab": {
      "provenance": []
    },
    "kernelspec": {
      "name": "python3",
      "display_name": "Python 3"
    },
    "language_info": {
      "name": "python"
    }
  },
  "cells": [
    {
      "cell_type": "code",
      "source": [
        "import pandas as pd\n",
        "\n",
        "# Load the CSV file\n",
        "file_path = \"Customer Purchase Data.csv\"  # Replace with the path to your file\n",
        "data = pd.read_csv(file_path)\n",
        "\n",
        "# Calculate the mean for numerical columns\n",
        "means = data.mean(numeric_only=True)\n",
        "\n",
        "# Display the mean values\n",
        "print(\"Mean values for numerical columns:\")\n",
        "print(means)\n"
      ],
      "metadata": {
        "colab": {
          "base_uri": "https://localhost:8080/"
        },
        "id": "vLUVZI1Asc3k",
        "outputId": "e4e897b3-267e-4e73-a6f7-75f0fe280bcb"
      },
      "execution_count": 4,
      "outputs": [
        {
          "output_type": "stream",
          "name": "stdout",
          "text": [
            "Mean values for numerical columns:\n",
            "Number                    681.500000\n",
            "Age                        43.251836\n",
            "Income                  48317.193784\n",
            "Spending_Score           9765.372547\n",
            "Membership_Years            9.513950\n",
            "Purchase_Frequency         49.551706\n",
            "Last_Purchase_Amount     4931.689546\n",
            "dtype: float64\n"
          ]
        }
      ]
    },
    {
      "cell_type": "code",
      "source": [],
      "metadata": {
        "id": "oVQcZVtAsCuS"
      },
      "execution_count": null,
      "outputs": []
    }
  ]
}