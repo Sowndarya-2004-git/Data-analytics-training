{
  "nbformat": 4,
  "nbformat_minor": 0,
  "metadata": {
    "colab": {
      "provenance": []
    },
    "kernelspec": {
      "name": "python3",
      "display_name": "Python 3"
    },
    "language_info": {
      "name": "python"
    }
  },
  "cells": [
    {
      "cell_type": "code",
      "source": [
        "import pandas as pd\n",
        "\n",
        "# Load the CSV file\n",
        "file_path = \"Customer Purchase Data.csv\"  # Replace with the path to your file\n",
        "data = pd.read_csv(file_path)\n",
        "\n",
        "# Calculate the range for numerical columns\n",
        "ranges = data.max(numeric_only=True) - data.min(numeric_only=True)\n",
        "\n",
        "# Display the range values\n",
        "print(\"Range values for numerical columns:\")\n",
        "print(ranges)\n"
      ],
      "metadata": {
        "colab": {
          "base_uri": "https://localhost:8080/"
        },
        "id": "vLUVZI1Asc3k",
        "outputId": "e56583b0-7e7d-4d4c-caab-a87aa7bd14f4"
      },
      "execution_count": 7,
      "outputs": [
        {
          "output_type": "stream",
          "name": "stdout",
          "text": [
            "Range values for numerical columns:\n",
            "Number                   1361.000000\n",
            "Age                        46.000000\n",
            "Income                  53235.894060\n",
            "Spending_Score          10727.434464\n",
            "Membership_Years           18.000000\n",
            "Purchase_Frequency         94.616132\n",
            "Last_Purchase_Amount     5461.825082\n",
            "dtype: float64\n"
          ]
        }
      ]
    },
    {
      "cell_type": "code",
      "source": [],
      "metadata": {
        "id": "oVQcZVtAsCuS"
      },
      "execution_count": null,
      "outputs": []
    }
  ]
}