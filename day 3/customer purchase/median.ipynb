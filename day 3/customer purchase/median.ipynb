{
  "nbformat": 4,
  "nbformat_minor": 0,
  "metadata": {
    "colab": {
      "provenance": []
    },
    "kernelspec": {
      "name": "python3",
      "display_name": "Python 3"
    },
    "language_info": {
      "name": "python"
    }
  },
  "cells": [
    {
      "cell_type": "code",
      "source": [
        "import pandas as pd\n",
        "\n",
        "# Load the CSV file\n",
        "file_path = \"Customer Purchase Data.csv\"  # Replace with the path to your file\n",
        "data = pd.read_csv(file_path)\n",
        "\n",
        "# Calculate the median for numerical columns\n",
        "medians = data.median(numeric_only=True)\n",
        "\n",
        "# Display the median values\n",
        "print(\"Median values for numerical columns:\")\n",
        "print(medians)\n"
      ],
      "metadata": {
        "colab": {
          "base_uri": "https://localhost:8080/"
        },
        "id": "vLUVZI1Asc3k",
        "outputId": "184a261a-eba9-4e18-ce73-2b8b354dc2cb"
      },
      "execution_count": 6,
      "outputs": [
        {
          "output_type": "stream",
          "name": "stdout",
          "text": [
            "Median values for numerical columns:\n",
            "Number                    681.500000\n",
            "Age                        43.000000\n",
            "Income                  48758.233625\n",
            "Spending_Score           9850.200389\n",
            "Membership_Years            9.000000\n",
            "Purchase_Frequency         47.729713\n",
            "Last_Purchase_Amount     4972.893731\n",
            "dtype: float64\n"
          ]
        }
      ]
    },
    {
      "cell_type": "code",
      "source": [],
      "metadata": {
        "id": "oVQcZVtAsCuS"
      },
      "execution_count": null,
      "outputs": []
    }
  ]
}