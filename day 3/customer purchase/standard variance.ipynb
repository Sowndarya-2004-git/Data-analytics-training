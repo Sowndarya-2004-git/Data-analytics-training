{
  "nbformat": 4,
  "nbformat_minor": 0,
  "metadata": {
    "colab": {
      "provenance": []
    },
    "kernelspec": {
      "name": "python3",
      "display_name": "Python 3"
    },
    "language_info": {
      "name": "python"
    }
  },
  "cells": [
    {
      "cell_type": "code",
      "source": [
        "import pandas as pd\n",
        "\n",
        "# Load the CSV file\n",
        "file_path = \"Customer Purchase Data.csv\"  # Replace with the path to your file\n",
        "data = pd.read_csv(file_path)\n",
        "\n",
        "# Calculate the standard deviation for numerical columns\n",
        "std_devs = data.std(numeric_only=True)\n",
        "\n",
        "# Display the standard deviation values\n",
        "print(\"Standard Deviation values for numerical columns:\")\n",
        "print(std_devs)\n"
      ],
      "metadata": {
        "colab": {
          "base_uri": "https://localhost:8080/"
        },
        "id": "vLUVZI1Asc3k",
        "outputId": "80d8921e-322c-460d-eb32-3d6c5adee343"
      },
      "execution_count": 11,
      "outputs": [
        {
          "output_type": "stream",
          "name": "stdout",
          "text": [
            "Standard Deviation values for numerical columns:\n",
            "Number                    393.319844\n",
            "Age                        12.533236\n",
            "Income                  12648.638324\n",
            "Spending_Score           2531.133100\n",
            "Membership_Years            5.417624\n",
            "Purchase_Frequency         27.074169\n",
            "Last_Purchase_Amount     1266.894447\n",
            "dtype: float64\n"
          ]
        }
      ]
    },
    {
      "cell_type": "code",
      "source": [],
      "metadata": {
        "id": "oVQcZVtAsCuS"
      },
      "execution_count": null,
      "outputs": []
    }
  ]
}