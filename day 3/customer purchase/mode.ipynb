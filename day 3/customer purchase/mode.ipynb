{
  "nbformat": 4,
  "nbformat_minor": 0,
  "metadata": {
    "colab": {
      "provenance": []
    },
    "kernelspec": {
      "name": "python3",
      "display_name": "Python 3"
    },
    "language_info": {
      "name": "python"
    }
  },
  "cells": [
    {
      "cell_type": "code",
      "source": [
        "import pandas as pd\n",
        "\n",
        "# Load the CSV file\n",
        "file_path = \"Customer Purchase Data.csv\"  # Replace with the path to your file\n",
        "data = pd.read_csv(file_path)\n",
        "\n",
        "# Calculate the mode for each column\n",
        "modes = data.mode()\n",
        "\n",
        "# Display the mode values\n",
        "print(\"Mode values for each column:\")\n",
        "print(modes)\n"
      ],
      "metadata": {
        "colab": {
          "base_uri": "https://localhost:8080/"
        },
        "id": "vLUVZI1Asc3k",
        "outputId": "e5863d32-39d4-41c5-875a-fe8f9ef81b5d"
      },
      "execution_count": 5,
      "outputs": [
        {
          "output_type": "stream",
          "name": "stdout",
          "text": [
            "Mode values for each column:\n",
            "      Number   Age       Income  Spending_Score  Membership_Years  \\\n",
            "0          1  43.0  19946.67574     4064.177336               5.0   \n",
            "1          2   NaN  20162.65049     4161.601723               NaN   \n",
            "2          3   NaN  21017.63938     4401.794949               NaN   \n",
            "3          4   NaN  21462.62737     4413.053555               NaN   \n",
            "4          5   NaN  21589.99296     4426.729092               NaN   \n",
            "...      ...   ...          ...             ...               ...   \n",
            "1357    1358   NaN  71641.56075    14468.266560               NaN   \n",
            "1358    1359   NaN  71760.87029    14469.670740               NaN   \n",
            "1359    1360   NaN  71793.69640    14471.457630               NaN   \n",
            "1360    1361   NaN  71968.93474    14537.736290               NaN   \n",
            "1361    1362   NaN  73182.56980    14791.611800               NaN   \n",
            "\n",
            "      Purchase_Frequency  Last_Purchase_Amount  \n",
            "0               4.876052           2057.551913  \n",
            "1               5.146982           2106.509116  \n",
            "2               5.269737           2193.907366  \n",
            "3               5.455566           2242.446384  \n",
            "4               5.493466           2268.998556  \n",
            "...                  ...                   ...  \n",
            "1357           98.094180           7287.730593  \n",
            "1358           98.166371           7288.216661  \n",
            "1359           98.233724           7301.583331  \n",
            "1360           98.672266           7313.279661  \n",
            "1361           99.492184           7519.376995  \n",
            "\n",
            "[1362 rows x 7 columns]\n"
          ]
        }
      ]
    },
    {
      "cell_type": "code",
      "source": [],
      "metadata": {
        "id": "oVQcZVtAsCuS"
      },
      "execution_count": null,
      "outputs": []
    }
  ]
}