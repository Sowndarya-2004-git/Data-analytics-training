{
  "nbformat": 4,
  "nbformat_minor": 0,
  "metadata": {
    "colab": {
      "provenance": []
    },
    "kernelspec": {
      "name": "python3",
      "display_name": "Python 3"
    },
    "language_info": {
      "name": "python"
    }
  },
  "cells": [
    {
      "cell_type": "code",
      "source": [
        "import pandas as pd\n",
        "\n",
        "# Load the CSV file\n",
        "file_path = \"Customer Purchase Data.csv\"  # Replace with the path to your file\n",
        "data = pd.read_csv(file_path)\n",
        "\n",
        "# Calculate the variance for numerical columns\n",
        "variances = data.var(numeric_only=True)\n",
        "\n",
        "# Display the variance values\n",
        "print(\"Variance values for numerical columns:\")\n",
        "print(variances)\n"
      ],
      "metadata": {
        "colab": {
          "base_uri": "https://localhost:8080/"
        },
        "id": "vLUVZI1Asc3k",
        "outputId": "67c21368-555a-49db-ca46-5d68827844e7"
      },
      "execution_count": 8,
      "outputs": [
        {
          "output_type": "stream",
          "name": "stdout",
          "text": [
            "Variance values for numerical columns:\n",
            "Number                  1.547005e+05\n",
            "Age                     1.570820e+02\n",
            "Income                  1.599881e+08\n",
            "Spending_Score          6.406635e+06\n",
            "Membership_Years        2.935065e+01\n",
            "Purchase_Frequency      7.330106e+02\n",
            "Last_Purchase_Amount    1.605022e+06\n",
            "dtype: float64\n"
          ]
        }
      ]
    },
    {
      "cell_type": "code",
      "source": [],
      "metadata": {
        "id": "oVQcZVtAsCuS"
      },
      "execution_count": null,
      "outputs": []
    }
  ]
}