{
  "nbformat": 4,
  "nbformat_minor": 0,
  "metadata": {
    "colab": {
      "provenance": []
    },
    "kernelspec": {
      "name": "python3",
      "display_name": "Python 3"
    },
    "language_info": {
      "name": "python"
    }
  },
  "cells": [
    {
      "cell_type": "code",
      "source": [
        "import pandas as pd\n",
        "\n",
        "# Load the CSV file\n",
        "file_path = \"search engine.csv\"  # Replace with the path to your file\n",
        "data = pd.read_csv(file_path)\n",
        "\n",
        "# Calculate the mean for numerical columns\n",
        "means = data.mean(numeric_only=True)\n",
        "\n",
        "# Display the mean values\n",
        "print(\"Mean values for numerical columns:\")\n",
        "print(means)\n"
      ],
      "metadata": {
        "colab": {
          "base_uri": "https://localhost:8080/"
        },
        "id": "vLUVZI1Asc3k",
        "outputId": "a84ef5d6-9cf3-4d49-a531-4ea014e8c24c"
      },
      "execution_count": 18,
      "outputs": [
        {
          "output_type": "stream",
          "name": "stdout",
          "text": [
            "Mean values for numerical columns:\n",
            "Google                  91.382263\n",
            "bing                     2.993368\n",
            "Yahoo!                   2.589211\n",
            "Baidu                    0.863684\n",
            "YANDEX                   0.496895\n",
            "YANDEX RU                0.296105\n",
            "Ask Jeeves               0.172368\n",
            "DuckDuckGo               0.251474\n",
            "Naver                    0.146421\n",
            "AOL                      0.098526\n",
            "Haosou                   0.083158\n",
            "Sogou                    0.086684\n",
            "Babylon                  0.033263\n",
            "Shenma                   0.053421\n",
            "Seznam                   0.048158\n",
            "Conduit                  0.028632\n",
            "MSN                      0.057211\n",
            "Mail.ru                  0.024421\n",
            "Ecosia                   0.037842\n",
            "Webcrawler               0.016842\n",
            "Daum                     0.017632\n",
            "CocCoc                   0.030842\n",
            "StartPagina (Google)     0.015579\n",
            "AVG Search               0.011474\n",
            "SweetIM                  0.009579\n",
            "Windows Live             0.044053\n",
            "Other                    0.106368\n",
            "dtype: float64\n"
          ]
        }
      ]
    },
    {
      "cell_type": "code",
      "source": [],
      "metadata": {
        "id": "oVQcZVtAsCuS"
      },
      "execution_count": null,
      "outputs": []
    }
  ]
}