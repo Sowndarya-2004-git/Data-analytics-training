{
  "nbformat": 4,
  "nbformat_minor": 0,
  "metadata": {
    "colab": {
      "provenance": []
    },
    "kernelspec": {
      "name": "python3",
      "display_name": "Python 3"
    },
    "language_info": {
      "name": "python"
    }
  },
  "cells": [
    {
      "cell_type": "code",
      "source": [
        "import pandas as pd\n",
        "\n",
        "# Load the CSV file\n",
        "file_path = \"search engine.csv\"  # Replace with the path to your file\n",
        "data = pd.read_csv(file_path)\n",
        "\n",
        "# Calculate the mode for each column\n",
        "modes = data.mode()\n",
        "\n",
        "# Display the mode values\n",
        "print(\"Mode values for each column:\")\n",
        "print(modes)\n"
      ],
      "metadata": {
        "colab": {
          "base_uri": "https://localhost:8080/"
        },
        "id": "vLUVZI1Asc3k",
        "outputId": "e7aef2b2-cfee-44ff-c28f-c158b1381779"
      },
      "execution_count": 16,
      "outputs": [
        {
          "output_type": "stream",
          "name": "stdout",
          "text": [
            "Mode values for each column:\n",
            "        Date  Google  bing  Yahoo!  Baidu  YANDEX  YANDEX RU  Ask Jeeves  \\\n",
            "0    2009-01   90.60  0.00    1.47   0.87     0.0        0.0         0.0   \n",
            "1    2009-02   90.86  2.75    1.50   1.00     NaN        NaN         NaN   \n",
            "2    2009-03   91.89  3.24     NaN    NaN     NaN        NaN         NaN   \n",
            "3    2009-04   92.06   NaN     NaN    NaN     NaN        NaN         NaN   \n",
            "4    2009-05     NaN   NaN     NaN    NaN     NaN        NaN         NaN   \n",
            "..       ...     ...   ...     ...    ...     ...        ...         ...   \n",
            "185  2024-06     NaN   NaN     NaN    NaN     NaN        NaN         NaN   \n",
            "186  2024-07     NaN   NaN     NaN    NaN     NaN        NaN         NaN   \n",
            "187  2024-08     NaN   NaN     NaN    NaN     NaN        NaN         NaN   \n",
            "188  2024-09     NaN   NaN     NaN    NaN     NaN        NaN         NaN   \n",
            "189  2024-10     NaN   NaN     NaN    NaN     NaN        NaN         NaN   \n",
            "\n",
            "     DuckDuckGo  Naver  ...  Mail.ru  Ecosia  Webcrawler  Daum  CocCoc  \\\n",
            "0           0.0   0.17  ...      0.0     0.0         0.0  0.01     0.0   \n",
            "1           NaN    NaN  ...      NaN     NaN         NaN   NaN     NaN   \n",
            "2           NaN    NaN  ...      NaN     NaN         NaN   NaN     NaN   \n",
            "3           NaN    NaN  ...      NaN     NaN         NaN   NaN     NaN   \n",
            "4           NaN    NaN  ...      NaN     NaN         NaN   NaN     NaN   \n",
            "..          ...    ...  ...      ...     ...         ...   ...     ...   \n",
            "185         NaN    NaN  ...      NaN     NaN         NaN   NaN     NaN   \n",
            "186         NaN    NaN  ...      NaN     NaN         NaN   NaN     NaN   \n",
            "187         NaN    NaN  ...      NaN     NaN         NaN   NaN     NaN   \n",
            "188         NaN    NaN  ...      NaN     NaN         NaN   NaN     NaN   \n",
            "189         NaN    NaN  ...      NaN     NaN         NaN   NaN     NaN   \n",
            "\n",
            "     StartPagina (Google)  AVG Search  SweetIM  Windows Live  Other  \n",
            "0                     0.0         0.0      0.0           0.0   0.05  \n",
            "1                     NaN         NaN      NaN           NaN    NaN  \n",
            "2                     NaN         NaN      NaN           NaN    NaN  \n",
            "3                     NaN         NaN      NaN           NaN    NaN  \n",
            "4                     NaN         NaN      NaN           NaN    NaN  \n",
            "..                    ...         ...      ...           ...    ...  \n",
            "185                   NaN         NaN      NaN           NaN    NaN  \n",
            "186                   NaN         NaN      NaN           NaN    NaN  \n",
            "187                   NaN         NaN      NaN           NaN    NaN  \n",
            "188                   NaN         NaN      NaN           NaN    NaN  \n",
            "189                   NaN         NaN      NaN           NaN    NaN  \n",
            "\n",
            "[190 rows x 28 columns]\n"
          ]
        }
      ]
    },
    {
      "cell_type": "code",
      "source": [],
      "metadata": {
        "id": "oVQcZVtAsCuS"
      },
      "execution_count": null,
      "outputs": []
    }
  ]
}