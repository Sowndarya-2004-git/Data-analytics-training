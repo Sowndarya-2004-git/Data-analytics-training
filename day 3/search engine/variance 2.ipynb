{
  "nbformat": 4,
  "nbformat_minor": 0,
  "metadata": {
    "colab": {
      "provenance": []
    },
    "kernelspec": {
      "name": "python3",
      "display_name": "Python 3"
    },
    "language_info": {
      "name": "python"
    }
  },
  "cells": [
    {
      "cell_type": "code",
      "source": [
        "import pandas as pd\n",
        "\n",
        "# Load the CSV file\n",
        "file_path = \"search engine.csv\"  # Replace with the path to your file\n",
        "data = pd.read_csv(file_path)\n",
        "\n",
        "# Calculate the variance for numerical columns\n",
        "variances = data.var(numeric_only=True)\n",
        "\n",
        "# Display the variance values\n",
        "print(\"Variance values for numerical columns:\")\n",
        "print(variances)\n"
      ],
      "metadata": {
        "colab": {
          "base_uri": "https://localhost:8080/"
        },
        "id": "vLUVZI1Asc3k",
        "outputId": "8dbacc8d-04d1-46e9-854e-8b373c36d7c6"
      },
      "execution_count": 13,
      "outputs": [
        {
          "output_type": "stream",
          "name": "stdout",
          "text": [
            "Variance values for numerical columns:\n",
            "Google                  1.030008\n",
            "bing                    0.437558\n",
            "Yahoo!                  1.290515\n",
            "Baidu                   0.187969\n",
            "YANDEX                  0.274770\n",
            "YANDEX RU               0.034638\n",
            "Ask Jeeves              0.037901\n",
            "DuckDuckGo              0.062175\n",
            "Naver                   0.007304\n",
            "AOL                     0.013497\n",
            "Haosou                  0.008458\n",
            "Sogou                   0.009676\n",
            "Babylon                 0.011401\n",
            "Shenma                  0.009864\n",
            "Seznam                  0.001782\n",
            "Conduit                 0.008009\n",
            "MSN                     0.047929\n",
            "Mail.ru                 0.000828\n",
            "Ecosia                  0.002966\n",
            "Webcrawler              0.000561\n",
            "Daum                    0.000338\n",
            "CocCoc                  0.002922\n",
            "StartPagina (Google)    0.000396\n",
            "AVG Search              0.001002\n",
            "SweetIM                 0.000963\n",
            "Windows Live            0.074072\n",
            "Other                   0.007485\n",
            "dtype: float64\n"
          ]
        }
      ]
    },
    {
      "cell_type": "code",
      "source": [],
      "metadata": {
        "id": "oVQcZVtAsCuS"
      },
      "execution_count": null,
      "outputs": []
    }
  ]
}