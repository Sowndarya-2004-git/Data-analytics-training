{
  "nbformat": 4,
  "nbformat_minor": 0,
  "metadata": {
    "colab": {
      "provenance": []
    },
    "kernelspec": {
      "name": "python3",
      "display_name": "Python 3"
    },
    "language_info": {
      "name": "python"
    }
  },
  "cells": [
    {
      "cell_type": "code",
      "source": [
        "import pandas as pd\n",
        "\n",
        "# Load the CSV file\n",
        "file_path = \"search engine.csv\"  # Replace with the path to your file\n",
        "data = pd.read_csv(file_path)\n",
        "\n",
        "# Calculate the median for numerical columns\n",
        "medians = data.median(numeric_only=True)\n",
        "\n",
        "# Display the median values\n",
        "print(\"Median values for numerical columns:\")\n",
        "print(medians)\n"
      ],
      "metadata": {
        "colab": {
          "base_uri": "https://localhost:8080/"
        },
        "id": "vLUVZI1Asc3k",
        "outputId": "9a664ab5-284e-43bc-e842-507fa372b545"
      },
      "execution_count": 15,
      "outputs": [
        {
          "output_type": "stream",
          "name": "stdout",
          "text": [
            "Median values for numerical columns:\n",
            "Google                  91.560\n",
            "bing                     3.045\n",
            "Yahoo!                   2.430\n",
            "Baidu                    0.890\n",
            "YANDEX                   0.345\n",
            "YANDEX RU                0.320\n",
            "Ask Jeeves               0.040\n",
            "DuckDuckGo               0.130\n",
            "Naver                    0.150\n",
            "AOL                      0.060\n",
            "Haosou                   0.060\n",
            "Sogou                    0.070\n",
            "Babylon                  0.000\n",
            "Shenma                   0.020\n",
            "Seznam                   0.040\n",
            "Conduit                  0.000\n",
            "MSN                      0.005\n",
            "Mail.ru                  0.010\n",
            "Ecosia                   0.000\n",
            "Webcrawler               0.010\n",
            "Daum                     0.010\n",
            "CocCoc                   0.010\n",
            "StartPagina (Google)     0.010\n",
            "AVG Search               0.000\n",
            "SweetIM                  0.000\n",
            "Windows Live             0.000\n",
            "Other                    0.090\n",
            "dtype: float64\n"
          ]
        }
      ]
    },
    {
      "cell_type": "code",
      "source": [],
      "metadata": {
        "id": "oVQcZVtAsCuS"
      },
      "execution_count": null,
      "outputs": []
    }
  ]
}