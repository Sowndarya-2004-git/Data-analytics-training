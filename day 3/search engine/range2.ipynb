{
  "nbformat": 4,
  "nbformat_minor": 0,
  "metadata": {
    "colab": {
      "provenance": []
    },
    "kernelspec": {
      "name": "python3",
      "display_name": "Python 3"
    },
    "language_info": {
      "name": "python"
    }
  },
  "cells": [
    {
      "cell_type": "code",
      "source": [
        "import pandas as pd\n",
        "\n",
        "# Load the CSV file\n",
        "file_path = \"search engine.csv\"  # Replace with the path to your file\n",
        "data = pd.read_csv(file_path)\n",
        "\n",
        "# Calculate the range for numerical columns\n",
        "ranges = data.max(numeric_only=True) - data.min(numeric_only=True)\n",
        "\n",
        "# Display the range values\n",
        "print(\"Range values for numerical columns:\")\n",
        "print(ranges)\n"
      ],
      "metadata": {
        "colab": {
          "base_uri": "https://localhost:8080/"
        },
        "id": "vLUVZI1Asc3k",
        "outputId": "287c9762-4f87-4002-a804-e0b56748d67b"
      },
      "execution_count": 14,
      "outputs": [
        {
          "output_type": "stream",
          "name": "stdout",
          "text": [
            "Range values for numerical columns:\n",
            "Google                  4.64\n",
            "bing                    4.22\n",
            "Yahoo!                  4.93\n",
            "Baidu                   2.18\n",
            "YANDEX                  2.78\n",
            "YANDEX RU               0.68\n",
            "Ask Jeeves              0.62\n",
            "DuckDuckGo              0.71\n",
            "Naver                   0.50\n",
            "AOL                     0.51\n",
            "Haosou                  0.58\n",
            "Sogou                   0.49\n",
            "Babylon                 0.54\n",
            "Shenma                  0.62\n",
            "Seznam                  0.32\n",
            "Conduit                 0.44\n",
            "MSN                     1.46\n",
            "Mail.ru                 0.12\n",
            "Ecosia                  0.15\n",
            "Webcrawler              0.13\n",
            "Daum                    0.15\n",
            "CocCoc                  0.26\n",
            "StartPagina (Google)    0.07\n",
            "AVG Search              0.18\n",
            "SweetIM                 0.16\n",
            "Windows Live            1.86\n",
            "Other                   0.64\n",
            "dtype: float64\n"
          ]
        }
      ]
    },
    {
      "cell_type": "code",
      "source": [],
      "metadata": {
        "id": "oVQcZVtAsCuS"
      },
      "execution_count": null,
      "outputs": []
    }
  ]
}