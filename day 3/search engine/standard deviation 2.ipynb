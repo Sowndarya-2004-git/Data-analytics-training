{
  "nbformat": 4,
  "nbformat_minor": 0,
  "metadata": {
    "colab": {
      "provenance": []
    },
    "kernelspec": {
      "name": "python3",
      "display_name": "Python 3"
    },
    "language_info": {
      "name": "python"
    }
  },
  "cells": [
    {
      "cell_type": "code",
      "source": [
        "import pandas as pd\n",
        "\n",
        "# Load the CSV file\n",
        "file_path = \"search engine.csv\"  # Replace with the path to your file\n",
        "data = pd.read_csv(file_path)\n",
        "\n",
        "# Calculate the standard deviation for numerical columns\n",
        "std_devs = data.std(numeric_only=True)\n",
        "\n",
        "# Display the standard deviation values\n",
        "print(\"Standard Deviation values for numerical columns:\")\n",
        "print(std_devs)\n"
      ],
      "metadata": {
        "colab": {
          "base_uri": "https://localhost:8080/"
        },
        "id": "vLUVZI1Asc3k",
        "outputId": "beae81e6-3bdf-477c-edfb-9538558e3c1d"
      },
      "execution_count": 12,
      "outputs": [
        {
          "output_type": "stream",
          "name": "stdout",
          "text": [
            "Standard Deviation values for numerical columns:\n",
            "Google                  1.014893\n",
            "bing                    0.661482\n",
            "Yahoo!                  1.136008\n",
            "Baidu                   0.433554\n",
            "YANDEX                  0.524185\n",
            "YANDEX RU               0.186112\n",
            "Ask Jeeves              0.194681\n",
            "DuckDuckGo              0.249348\n",
            "Naver                   0.085461\n",
            "AOL                     0.116178\n",
            "Haosou                  0.091966\n",
            "Sogou                   0.098368\n",
            "Babylon                 0.106775\n",
            "Shenma                  0.099317\n",
            "Seznam                  0.042217\n",
            "Conduit                 0.089491\n",
            "MSN                     0.218927\n",
            "Mail.ru                 0.028774\n",
            "Ecosia                  0.054463\n",
            "Webcrawler              0.023694\n",
            "Daum                    0.018378\n",
            "CocCoc                  0.054056\n",
            "StartPagina (Google)    0.019905\n",
            "AVG Search              0.031655\n",
            "SweetIM                 0.031029\n",
            "Windows Live            0.272161\n",
            "Other                   0.086514\n",
            "dtype: float64\n"
          ]
        }
      ]
    },
    {
      "cell_type": "code",
      "source": [],
      "metadata": {
        "id": "oVQcZVtAsCuS"
      },
      "execution_count": null,
      "outputs": []
    }
  ]
}