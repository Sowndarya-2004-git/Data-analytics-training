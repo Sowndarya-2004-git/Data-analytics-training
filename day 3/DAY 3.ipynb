{
  "nbformat": 4,
  "nbformat_minor": 0,
  "metadata": {
    "colab": {
      "provenance": []
    },
    "kernelspec": {
      "name": "python3",
      "display_name": "Python 3"
    },
    "language_info": {
      "name": "python"
    }
  },
  "cells": [
    {
      "cell_type": "markdown",
      "source": [
        "MEAN"
      ],
      "metadata": {
        "id": "jHEtG3U092Km"
      }
    },
    {
      "cell_type": "code",
      "source": [
        "import pandas as pd\n",
        "\n",
        "# Load the CSV file\n",
        "file_path = \"/content/career_change_prediction_dataset.csv\"  # Replace with the path to your file\n",
        "data = pd.read_csv(file_path)\n",
        "\n",
        "# Calculate the MEAN for numerical columns\n",
        "means = data.mean(numeric_only=True)\n",
        "\n",
        "# Display the MEAN values\n",
        "print(\"MEAN values for numerical columns:\")\n",
        "print(means)"
      ],
      "metadata": {
        "colab": {
          "base_uri": "https://localhost:8080/"
        },
        "id": "uQrdmCpm-I3e",
        "outputId": "7d2d64f3-0c49-411d-c48c-38157b0eb2ce"
      },
      "execution_count": 4,
      "outputs": [
        {
          "output_type": "stream",
          "name": "stdout",
          "text": [
            "MEAN values for numerical columns:\n",
            "Age                                39.540422\n",
            "Years of Experience                19.548200\n",
            "Job Satisfaction                    5.489673\n",
            "Work-Life Balance                   5.517012\n",
            "Job Opportunities                  50.308267\n",
            "Salary                         114975.623999\n",
            "Job Security                        5.481896\n",
            "Career Change Interest              0.199901\n",
            "Skills Gap                          5.520133\n",
            "Mentorship Available                0.299943\n",
            "Certifications                      0.298616\n",
            "Freelancing Experience              0.149204\n",
            "Geographic Mobility                 0.303975\n",
            "Professional Networks               5.514098\n",
            "Career Change Events                1.003304\n",
            "Technology Adoption                 5.487904\n",
            "Likely to Change Occupation         0.576553\n",
            "dtype: float64\n"
          ]
        }
      ]
    },
    {
      "cell_type": "markdown",
      "source": [
        "MEDIAN"
      ],
      "metadata": {
        "id": "lotb4v9b-PdS"
      }
    },
    {
      "cell_type": "code",
      "source": [
        "import pandas as pd\n",
        "# Load the CSV file\n",
        "file_path = \"/content/career_change_prediction_dataset.csv\"  # Replace with the path to your file\n",
        "data = pd.read_csv(file_path)\n",
        "\n",
        "# Calculate the MEDIAN for numerical columns\n",
        "medians = data.median(numeric_only=True)\n",
        "\n",
        "import pandas as pd\n",
        "# Load the CSV file\n",
        "file_path = \"/content/career_change_prediction_dataset.csv\"  # Replace with the path to your file\n",
        "data = pd.read_csv(file_path)\n",
        "\n",
        "# Calculate the MEDIAN for numerical columns\n",
        "medians = data.median(numeric_only=True)\n",
        "\n",
        "# Display the MEDIAN values\n",
        "print(\"MEDIAN values for numerical columns:\")\n",
        "print(medians)"
      ],
      "metadata": {
        "colab": {
          "base_uri": "https://localhost:8080/"
        },
        "id": "xizVldZR-Qdh",
        "outputId": "bf9110dc-b8cd-4de8-8a50-f275598af361"
      },
      "execution_count": 5,
      "outputs": [
        {
          "output_type": "stream",
          "name": "stdout",
          "text": [
            "MEDIAN values for numerical columns:\n",
            "Age                                40.0\n",
            "Years of Experience                20.0\n",
            "Job Satisfaction                    6.0\n",
            "Work-Life Balance                   6.0\n",
            "Job Opportunities                  50.0\n",
            "Salary                         114861.0\n",
            "Job Security                        5.0\n",
            "Career Change Interest              0.0\n",
            "Skills Gap                          6.0\n",
            "Mentorship Available                0.0\n",
            "Certifications                      0.0\n",
            "Freelancing Experience              0.0\n",
            "Geographic Mobility                 0.0\n",
            "Professional Networks               6.0\n",
            "Career Change Events                1.0\n",
            "Technology Adoption                 5.0\n",
            "Likely to Change Occupation         1.0\n",
            "dtype: float64\n"
          ]
        }
      ]
    },
    {
      "cell_type": "markdown",
      "source": [
        "MODE\n"
      ],
      "metadata": {
        "id": "ENgfdpMb-b42"
      }
    },
    {
      "cell_type": "code",
      "source": [
        "import pandas as pd\n",
        "\n",
        "# Load the CSV file\n",
        "file_path = \"/content/career_change_prediction_dataset.csv\"  # Replace with the path to your file\n",
        "data = pd.read_csv(file_path)\n",
        "\n",
        "# Calculate the MODE for numerical columns\n",
        "modes = data.mode(numeric_only=True).iloc[0]\n",
        "\n",
        "# Display the MODE values\n",
        "print(\"\\nMODE values for numerical columns:\")\n",
        "print(modes)"
      ],
      "metadata": {
        "colab": {
          "base_uri": "https://localhost:8080/"
        },
        "id": "ji_jVscS-cyr",
        "outputId": "03b99bef-de7f-41bc-b21d-96a9f0245931"
      },
      "execution_count": 6,
      "outputs": [
        {
          "output_type": "stream",
          "name": "stdout",
          "text": [
            "\n",
            "MODE values for numerical columns:\n",
            "Age                               24.0\n",
            "Years of Experience               30.0\n",
            "Job Satisfaction                   6.0\n",
            "Work-Life Balance                 10.0\n",
            "Job Opportunities                 85.0\n",
            "Salary                         46508.0\n",
            "Job Security                       1.0\n",
            "Career Change Interest             0.0\n",
            "Skills Gap                         5.0\n",
            "Mentorship Available               0.0\n",
            "Certifications                     0.0\n",
            "Freelancing Experience             0.0\n",
            "Geographic Mobility                0.0\n",
            "Professional Networks              6.0\n",
            "Career Change Events               2.0\n",
            "Technology Adoption                3.0\n",
            "Likely to Change Occupation        1.0\n",
            "Name: 0, dtype: float64\n"
          ]
        }
      ]
    },
    {
      "cell_type": "markdown",
      "source": [
        "RANGE"
      ],
      "metadata": {
        "id": "cIouov7X-i25"
      }
    },
    {
      "cell_type": "code",
      "source": [
        "import pandas as pd\n",
        "\n",
        "# Load the CSV file\n",
        "file_path = \"/content/career_change_prediction_dataset.csv\"  # Replace with the path to your file\n",
        "data = pd.read_csv(file_path)\n",
        "\n",
        "# Calculate the range for numerical columns (max - min)\n",
        "ranges = data.max(numeric_only=True) - data.min(numeric_only=True)\n",
        "\n",
        "\n",
        "# Display the RANGE values\n",
        "print(\"\\nRange values for numerical columns:\")\n",
        "print(ranges)"
      ],
      "metadata": {
        "colab": {
          "base_uri": "https://localhost:8080/"
        },
        "id": "TdHtC7UB-rrA",
        "outputId": "638d60fb-da64-4576-af68-94df998a775c"
      },
      "execution_count": 8,
      "outputs": [
        {
          "output_type": "stream",
          "name": "stdout",
          "text": [
            "\n",
            "Range values for numerical columns:\n",
            "Age                                39\n",
            "Years of Experience                39\n",
            "Job Satisfaction                    9\n",
            "Work-Life Balance                   9\n",
            "Job Opportunities                  99\n",
            "Salary                         169991\n",
            "Job Security                        9\n",
            "Career Change Interest              1\n",
            "Skills Gap                          9\n",
            "Mentorship Available                1\n",
            "Certifications                      1\n",
            "Freelancing Experience              1\n",
            "Geographic Mobility                 1\n",
            "Professional Networks               9\n",
            "Career Change Events                2\n",
            "Technology Adoption                 9\n",
            "Likely to Change Occupation         1\n",
            "dtype: int64\n"
          ]
        }
      ]
    },
    {
      "cell_type": "markdown",
      "source": [
        "VARIANCE"
      ],
      "metadata": {
        "id": "yy_sZ4kO-wwO"
      }
    },
    {
      "cell_type": "code",
      "source": [
        "import pandas as pd\n",
        "\n",
        "# Load the CSV file\n",
        "file_path = \"/content/career_change_prediction_dataset.csv\"  # Replace with the path to your file\n",
        "data = pd.read_csv(file_path)\n",
        "\n",
        "# Calculate the variance for numerical columns\n",
        "variances = data.var(numeric_only=True)\n",
        "\n",
        "print(\"\\nVariance values for numerical columns:\")\n",
        "print(variances)"
      ],
      "metadata": {
        "colab": {
          "base_uri": "https://localhost:8080/"
        },
        "id": "qL57hXc8-2p-",
        "outputId": "b3009a9f-14d9-4d30-9f49-c13ec762aa2d"
      },
      "execution_count": 9,
      "outputs": [
        {
          "output_type": "stream",
          "name": "stdout",
          "text": [
            "\n",
            "Variance values for numerical columns:\n",
            "Age                            1.339693e+02\n",
            "Years of Experience            1.334597e+02\n",
            "Job Satisfaction               8.239235e+00\n",
            "Work-Life Balance              8.288684e+00\n",
            "Job Opportunities              8.338981e+02\n",
            "Salary                         2.397446e+09\n",
            "Job Security                   8.240574e+00\n",
            "Career Change Interest         1.599448e-01\n",
            "Skills Gap                     8.237271e+00\n",
            "Mentorship Available           2.099826e-01\n",
            "Certifications                 2.094500e-01\n",
            "Freelancing Experience         1.269455e-01\n",
            "Geographic Mobility            2.115796e-01\n",
            "Professional Networks          8.226500e+00\n",
            "Career Change Events           6.657800e-01\n",
            "Technology Adoption            8.163863e+00\n",
            "Likely to Change Occupation    2.441460e-01\n",
            "dtype: float64\n"
          ]
        }
      ]
    },
    {
      "cell_type": "markdown",
      "source": [
        "SKEWNESS"
      ],
      "metadata": {
        "id": "8qLCQzgQ-8Tx"
      }
    },
    {
      "cell_type": "code",
      "source": [
        "import pandas as pd\n",
        "\n",
        "# Load the CSV file\n",
        "file_path = \"/content/career_change_prediction_dataset.csv\"  # Replace with the path to your file\n",
        "data = pd.read_csv(file_path)\n",
        "\n",
        "# Calculate the skewness for numerical columns\n",
        "skewness = data.skew(numeric_only=True)\n",
        "\n",
        "print(\"\\nSkewness values for numerical columns:\")\n",
        "print(skewness)"
      ],
      "metadata": {
        "id": "rVWfcRmc--Vr",
        "outputId": "8c40d503-14aa-44f7-982b-3bb9274dfaa2",
        "colab": {
          "base_uri": "https://localhost:8080/"
        }
      },
      "execution_count": 10,
      "outputs": [
        {
          "output_type": "stream",
          "name": "stdout",
          "text": [
            "\n",
            "Skewness values for numerical columns:\n",
            "Age                           -0.005949\n",
            "Years of Experience           -0.008195\n",
            "Job Satisfaction              -0.000294\n",
            "Work-Life Balance             -0.002051\n",
            "Job Opportunities              0.008359\n",
            "Salary                         0.006568\n",
            "Job Security                   0.006157\n",
            "Career Change Interest         1.500831\n",
            "Skills Gap                    -0.013343\n",
            "Mentorship Available           0.873203\n",
            "Certifications                 0.880110\n",
            "Freelancing Experience         1.969239\n",
            "Geographic Mobility            0.852370\n",
            "Professional Networks         -0.008737\n",
            "Career Change Events          -0.006065\n",
            "Technology Adoption            0.007797\n",
            "Likely to Change Occupation   -0.309877\n",
            "dtype: float64\n"
          ]
        }
      ]
    }
  ]
}